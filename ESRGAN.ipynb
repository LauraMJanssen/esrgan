{
  "cells": [
    {
      "cell_type": "markdown",
      "metadata": {
        "id": "BmSZF30YBjwP"
      },
      "source": [
        "## SET UP"
      ]
    },
    {
      "cell_type": "code",
      "execution_count": null,
      "metadata": {
        "id": "h7tNsFkRVEVd",
        "vscode": {
          "languageId": "python"
        }
      },
      "outputs": [],
      "source": [
        "from google.colab import drive\n",
        "drive.mount('/content/drive')"
      ]
    },
    {
      "cell_type": "code",
      "execution_count": null,
      "metadata": {
        "id": "pwCjbXk6bwz5",
        "vscode": {
          "languageId": "python"
        }
      },
      "outputs": [],
      "source": [
        "!git clone https://github.com/LauraMJanssen/esrgan.git\n",
        "%cd esrgan/\n",
        "!pip install -r requirements.txt"
      ]
    },
    {
      "cell_type": "markdown",
      "metadata": {
        "id": "2zK_yNzLmTD3"
      },
      "source": [
        "## For transfer learning:"
      ]
    },
    {
      "cell_type": "code",
      "execution_count": null,
      "metadata": {
        "id": "naFvMby3bfbu",
        "vscode": {
          "languageId": "python"
        }
      },
      "outputs": [],
      "source": [
        "! mkdir -p checkpoints/esrgan"
      ]
    },
    {
      "cell_type": "code",
      "execution_count": null,
      "metadata": {
        "id": "iZPZbmpLZx0D",
        "vscode": {
          "languageId": "python"
        }
      },
      "outputs": [],
      "source": [
        "! unzip \"/content/esrgan/pretrainedModel/esrgan_inference.zip\" \\\n",
        "        -d \"/content/esrgan/pretrainedModel/\""
      ]
    },
    {
      "cell_type": "code",
      "execution_count": null,
      "metadata": {
        "id": "_X869PdjbW3U",
        "vscode": {
          "languageId": "python"
        }
      },
      "outputs": [],
      "source": [
        "! mv /content/esrgan/pretrainedModel/esrgan_inference/* checkpoints/esrgan"
      ]
    },
    {
      "cell_type": "markdown",
      "metadata": {
        "id": "9jYoCNhF26sN"
      },
      "source": [
        "## Data Processing\n",
        "-> needs to be in '.tfrecod' format"
      ]
    },
    {
      "cell_type": "code",
      "execution_count": null,
      "metadata": {
        "id": "jD0njDfQWC0p",
        "vscode": {
          "languageId": "python"
        }
      },
      "outputs": [],
      "source": [
        "! rm /content/esrgan/data/DIV2K800_sub_bin.tfrecord\n",
        "! python data/convert_train_tfrecord.py \\\n",
        "        --hr_dataset_path='/content/drive/MyDrive/IVUSImages/HR_Train' \\\n",
        "        --lr_dataset_path='/content/drive/MyDrive/IVUSImages/LR_Scale4_Train' \\\n",
        "        --output_path=\"./data/DIV2K800_sub_bin.tfrecord\" \\\n",
        "        --is_binary=True"
      ]
    },
    {
      "cell_type": "code",
      "execution_count": null,
      "metadata": {
        "id": "BBKlHqRA3ZFG",
        "vscode": {
          "languageId": "python"
        }
      },
      "outputs": [],
      "source": [
        "! rm /content/esrgan/data/DIV2K800_sub_bin_valid.tfrecord\n",
        "! python data/convert_train_tfrecord.py \\\n",
        "        --hr_dataset_path='/content/drive/MyDrive/IVUSImages/HR_Valid' \\\n",
        "        --lr_dataset_path='/content/drive/MyDrive/IVUSImages/LR_Scale4_Valid' \\\n",
        "        --output_path=\"./data/DIV2K800_sub_bin_valid.tfrecord\" \\\n",
        "        --is_binary=True"
      ]
    },
    {
      "cell_type": "markdown",
      "metadata": {
        "id": "s-fvYoDI3Ahf"
      },
      "source": [
        "## Train"
      ]
    },
    {
      "cell_type": "code",
      "execution_count": null,
      "metadata": {
        "id": "Hs4DeEbXU-Cg",
        "vscode": {
          "languageId": "python"
        }
      },
      "outputs": [],
      "source": [
        "! python train_esrgan.py --cfg_path=\"./configs/esrgan.yaml\" \\\n",
        "                         --gpu=1"
      ]
    },
    {
      "cell_type": "code",
      "execution_count": null,
      "metadata": {
        "id": "b45PCfKpdbCU",
        "vscode": {
          "languageId": "python"
        }
      },
      "outputs": [],
      "source": [
        "!zip -r /content/ESRGAN_model.zip /content/esrgan-tf2/checkpoints/esrgan"
      ]
    },
    {
      "cell_type": "code",
      "execution_count": null,
      "metadata": {
        "id": "IcF9q6wuXPxb",
        "vscode": {
          "languageId": "python"
        }
      },
      "outputs": [],
      "source": [
        "from google.colab import files\n",
        "files.download(\"/content/ESRGAN_model.zip\")"
      ]
    },
    {
      "cell_type": "markdown",
      "metadata": {
        "id": "QIdP0VZaYJOw"
      },
      "source": [
        "## TEST"
      ]
    },
    {
      "cell_type": "markdown",
      "metadata": {
        "id": "078jO_JNDhGn"
      },
      "source": [
        "(1) Define quality metric functions"
      ]
    },
    {
      "cell_type": "code",
      "execution_count": 11,
      "metadata": {
        "id": "1o9fcCGVH-YU",
        "vscode": {
          "languageId": "python"
        }
      },
      "outputs": [],
      "source": [
        "from skimage.metrics import structural_similarity as ssim\n",
        "\n",
        "# define a function for peak signal-to-noise ratio (PSNR)\n",
        "def psnr(target, ref):\n",
        "         \n",
        "    # assume RGB image\n",
        "    target_data = target.astype(float)\n",
        "    ref_data = ref.astype(float)\n",
        "\n",
        "    diff = ref_data - target_data\n",
        "    diff = diff.flatten('C')\n",
        "\n",
        "    rmse = math.sqrt(np.mean(diff ** 2.))\n",
        "\n",
        "    return 20 * math.log10(255. / rmse)\n",
        "\n",
        "# define function for mean squared error (MSE)\n",
        "def mse(target, ref):\n",
        "    # the MSE between the two images is the sum of the squared difference\n",
        "    err = np.sum((target.astype('float') - ref.astype('float')) ** 2)\n",
        "    err /= float(target.shape[0] * target.shape[1])\n",
        "    \n",
        "    return err\n",
        "\n",
        "# define function that combines all three image quality metrics\n",
        "def compare_images(target, ref):\n",
        "    scores = []\n",
        "    scores.append(psnr(target, ref))\n",
        "    scores.append(mse(target, ref))\n",
        "    scores.append(ssim(target, ref, multichannel =True))\n",
        "    \n",
        "    return scores"
      ]
    },
    {
      "cell_type": "markdown",
      "metadata": {
        "id": "GGulnXGnDku0"
      },
      "source": [
        "(2) Execute model on specific image"
      ]
    },
    {
      "cell_type": "code",
      "execution_count": null,
      "metadata": {
        "id": "d2_s_KAjt82c",
        "vscode": {
          "languageId": "python"
        }
      },
      "outputs": [],
      "source": [
        "from IPython.display import Image\n",
        "!python test.py \\\n",
        "        --cfg_path=\"./configs/esrgan.yaml\" \\\n",
        "        --img_path=\"/content/drive/MyDrive/IVUSImages/HR_Valid/001.png\""
      ]
    },
    {
      "cell_type": "markdown",
      "metadata": {
        "id": "zN4bzi79DnnZ"
      },
      "source": [
        "(3) Print results \\\n",
        "(make sure to adapt ref and degraded parts according to image read above)"
      ]
    },
    {
      "cell_type": "code",
      "execution_count": null,
      "metadata": {
        "id": "m-JoFXe0IBIS",
        "vscode": {
          "languageId": "python"
        }
      },
      "outputs": [],
      "source": [
        "import math\n",
        "import numpy as np\n",
        "import cv2\n",
        "\n",
        "HR = cv2.imread('/content/drive/MyDrive/IVUSImages/HR_Valid/001.png')\n",
        "LR = cv2.imread('/content/drive/MyDrive/IVUSImages/LR_Scale4_Valid/001.png')\n",
        "SR = cv2.imread('/content/result.png')\n",
        "  \n",
        "# image quality calculations\n",
        "scores = []\n",
        "h, w, _ = LR.shape\n",
        "LR2 = cv2.resize(LR, (4*w, 4*h))\n",
        "scores.append(compare_images(LR2, HR))\n",
        "\n",
        "scores.append(compare_images(SR, HR))\n",
        "  \n",
        "# print all scores for all images\n",
        "print('Degraded Image: \\nPSNR: {}\\nMSE: {}\\nSSIM: {}\\n'\n",
        "        .format(scores[0][0], scores[0][1], scores[0][2]))\n",
        "print('Reconstructed Image: \\nPSNR: {}\\nMSE: {}\\nSSIM: {}\\n'\n",
        "        .format(scores[1][0], scores[1][1], scores[1][2]))"
      ]
    }
  ],
  "metadata": {
    "accelerator": "GPU",
    "colab": {
      "background_execution": "on",
      "collapsed_sections": [],
      "machine_shape": "hm",
      "name": "ESRGAN",
      "provenance": []
    },
    "gpuClass": "standard",
    "kernelspec": {
      "display_name": "Python 3",
      "name": "python3"
    }
  },
  "nbformat": 4,
  "nbformat_minor": 0
}
